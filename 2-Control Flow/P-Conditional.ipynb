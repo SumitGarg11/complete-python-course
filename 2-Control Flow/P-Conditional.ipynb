{
 "cells": [
  {
   "cell_type": "code",
   "execution_count": 1,
   "metadata": {},
   "outputs": [
    {
     "name": "stdout",
     "output_type": "stream",
     "text": [
      "Number is postive\n",
      "Number is even\n"
     ]
    }
   ],
   "source": [
    "num=int(input(\"Enter the number \"));\n",
    "if(num>0):\n",
    "    print(\"Number is postive\");\n",
    "    if(num%2==0):\n",
    "        print(\"Number is even\");\n",
    "    else:\n",
    "        print(\"Number is odd\");\n",
    "else:\n",
    "    print(\"Number is zero or negative\");\n"
   ]
  },
  {
   "cell_type": "code",
   "execution_count": 2,
   "metadata": {},
   "outputs": [
    {
     "name": "stdout",
     "output_type": "stream",
     "text": [
      "Result :  40.0\n"
     ]
    }
   ],
   "source": [
    "num1 = float(input(\"Enter the num1 : \"));\n",
    "num2 = float(input(\"Enter the num2 : \"));\n",
    "operator = input(\"Enter the operator (+,-,*,/)\");\n",
    "\n",
    "if operator == '+':\n",
    "    result = num1 + num2;\n",
    "elif operator == '-':\n",
    "    result = num1 - num2;\n",
    "elif operator == '*':\n",
    "    result = num1 * num2;\n",
    "elif operator == '/':\n",
    "    if num2!=0:\n",
    "        result = num1 / num2;\n",
    "    else:\n",
    "        print(\"Error! Division by zero.\");\n",
    "else:\n",
    "    print(\"Invalid operator.\");\n",
    "print(\"Result : \", result);"
   ]
  },
  {
   "cell_type": "code",
   "execution_count": null,
   "metadata": {},
   "outputs": [],
   "source": []
  }
 ],
 "metadata": {
  "kernelspec": {
   "display_name": "Python 3",
   "language": "python",
   "name": "python3"
  },
  "language_info": {
   "codemirror_mode": {
    "name": "ipython",
    "version": 3
   },
   "file_extension": ".py",
   "mimetype": "text/x-python",
   "name": "python",
   "nbconvert_exporter": "python",
   "pygments_lexer": "ipython3",
   "version": "3.10.0"
  }
 },
 "nbformat": 4,
 "nbformat_minor": 2
}
