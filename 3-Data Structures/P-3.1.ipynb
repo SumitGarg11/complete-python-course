{
 "cells": [
  {
   "cell_type": "code",
   "execution_count": 4,
   "metadata": {},
   "outputs": [
    {
     "name": "stdout",
     "output_type": "stream",
     "text": [
      "['apple', 'orange', 'Warning']\n",
      "['orange', 'Warning']\n",
      "['apple', 'hello', 'Warning']\n",
      "['apple', 'hello', 'w', 'o', 'r', 'l', 'd']\n"
     ]
    }
   ],
   "source": [
    "name = [\"apple\",\"orange\", \"Warning\"];\n",
    "print(name);\n",
    "print(name[1:]);\n",
    "name[1] = \"hello\";\n",
    "print(name);\n",
    "name[2:] = \"world\";\n",
    "print(name);\n"
   ]
  },
  {
   "cell_type": "code",
   "execution_count": null,
   "metadata": {},
   "outputs": [],
   "source": []
  }
 ],
 "metadata": {
  "kernelspec": {
   "display_name": "Python 3",
   "language": "python",
   "name": "python3"
  },
  "language_info": {
   "codemirror_mode": {
    "name": "ipython",
    "version": 3
   },
   "file_extension": ".py",
   "mimetype": "text/x-python",
   "name": "python",
   "nbconvert_exporter": "python",
   "pygments_lexer": "ipython3",
   "version": "3.10.0"
  }
 },
 "nbformat": 4,
 "nbformat_minor": 2
}
